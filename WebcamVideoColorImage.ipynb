{
 "cells": [
  {
   "cell_type": "markdown",
   "metadata": {},
   "source": [
    "## Webcam Video Color Image and Histogram Equalizer"
   ]
  },
  {
   "cell_type": "code",
   "execution_count": 1,
   "metadata": {},
   "outputs": [],
   "source": [
    "import numpy as np\n",
    "import cv2"
   ]
  },
  {
   "cell_type": "code",
   "execution_count": 2,
   "metadata": {},
   "outputs": [],
   "source": [
    "#start video capture \n",
    "cap = cv2.VideoCapture(0)"
   ]
  },
  {
   "cell_type": "code",
   "execution_count": 3,
   "metadata": {},
   "outputs": [
    {
     "name": "stdout",
     "output_type": "stream",
     "text": [
      "width, height:  640 480\n"
     ]
    }
   ],
   "source": [
    "if cap.isOpened():\n",
    "    width = int(cap.get(cv2.CAP_PROP_FRAME_WIDTH))\n",
    "    height = int(cap.get(cv2.CAP_PROP_FRAME_HEIGHT))\n",
    "    \n",
    "    print('width, height: ', width, height)"
   ]
  },
  {
   "cell_type": "code",
   "execution_count": 4,
   "metadata": {},
   "outputs": [],
   "source": [
    "def equalizeHistColor(frame):\n",
    "    #equalize the histogram of color image - simple histogram equalization\n",
    "    #img = cv2.cvtColor(frame, cv2.COLOR_RGB2HSV)\n",
    "    #img[:,:,2] = cv2.equalizeHist(img[:,:,2])\n",
    "    #return cv2.cvtColor(img, cv2.COLOR_HSV2RGB)    \n",
    "    \n",
    "    #adaptive histogram equalization \n",
    "    clahe = cv2.createCLAHE(clipLimit=2, tileGridSize=(8,8))\n",
    "    img = cv2.cvtColor(frame, cv2.COLOR_RGB2GRAY)\n",
    "    clh = clahe.apply(img)\n",
    "    return cv2.cvtColor(clh, cv2.COLOR_GRAY2RGB)"
   ]
  },
  {
   "cell_type": "code",
   "execution_count": 5,
   "metadata": {},
   "outputs": [],
   "source": [
    "def threshold(average_pixel, frame):\n",
    "    #threshold value for brightness quality\n",
    "    #need to tweak the value \n",
    "    low_thresh = 100\n",
    "    high_thresh = 200\n",
    "    \n",
    "    if average_pixel > low_thresh and average_pixel < high_thresh:\n",
    "        cv2.putText(frame, 'Video Brightness: OK', (50,50), font, 1, (0, 255, 255), 2, cv2.LINE_4)\n",
    "    elif average_pixel > high_thresh: \n",
    "        cv2.putText(frame, 'Video Brightness: Bright', (50,50), font, 1, (0, 255, 255), 2, cv2.LINE_4)\n",
    "    elif average_pixel < low_thresh: \n",
    "        cv2.putText(frame, 'Video Brightness: Dark', (50,50), font, 1, (0, 255, 255), 2, cv2.LINE_4)  "
   ]
  },
  {
   "cell_type": "code",
   "execution_count": 6,
   "metadata": {},
   "outputs": [],
   "source": [
    "while(True): \n",
    "    ret, frame = cap.read()\n",
    "    \n",
    "    #operations on the frame \n",
    "    img = equalizeHistColor(frame)\n",
    "    \n",
    "    #convert to grayscale \n",
    "    grayFrame = cv2.cvtColor(img, cv2.COLOR_BGR2GRAY)\n",
    "    \n",
    "    #count average pixel intensity form the image \n",
    "    total_pixel = 0\n",
    "    for i in range(0, int(height)): \n",
    "        for j in range(0, int(width)): \n",
    "            #total-up all pixel inside the image\n",
    "            total_pixel += grayFrame[i,j]\n",
    "            \n",
    "    #average all the total pixel image \n",
    "    average_pixel = total_pixel / (width * height)\n",
    "    \n",
    "    #decribe the type of font to be used \n",
    "    font = cv2.FONT_HERSHEY_SIMPLEX \n",
    "    \n",
    "    #compare pixel intensity with the threshold value \n",
    "    threshold(average_pixel, frame)    \n",
    "    \n",
    "    #display original image \n",
    "    cv2.imshow('Real-Time Video Session', frame)\n",
    "    \n",
    "    #display resulting image\n",
    "    #cv2.imshow('Histogram Equalization', img)\n",
    "    if cv2.waitKey(1) & 0xFF == ord('q'):\n",
    "        break\n",
    "        \n",
    "#release video capture \n",
    "cap.release()\n",
    "cv2.destroyAllWindows()"
   ]
  }
 ],
 "metadata": {
  "kernelspec": {
   "display_name": "Python 3",
   "language": "python",
   "name": "python3"
  },
  "language_info": {
   "codemirror_mode": {
    "name": "ipython",
    "version": 3
   },
   "file_extension": ".py",
   "mimetype": "text/x-python",
   "name": "python",
   "nbconvert_exporter": "python",
   "pygments_lexer": "ipython3",
   "version": "3.7.7"
  }
 },
 "nbformat": 4,
 "nbformat_minor": 4
}
