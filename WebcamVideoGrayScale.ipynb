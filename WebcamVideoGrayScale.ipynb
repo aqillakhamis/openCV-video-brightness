{
 "cells": [
  {
   "cell_type": "markdown",
   "metadata": {},
   "source": [
    "## Detect Video Brightness"
   ]
  },
  {
   "cell_type": "code",
   "execution_count": 1,
   "metadata": {},
   "outputs": [],
   "source": [
    "#import libraries \n",
    "import cv2"
   ]
  },
  {
   "cell_type": "code",
   "execution_count": 2,
   "metadata": {},
   "outputs": [],
   "source": [
    "#on the webcam camera \n",
    "capture = cv2.VideoCapture(0)"
   ]
  },
  {
   "cell_type": "code",
   "execution_count": 3,
   "metadata": {},
   "outputs": [
    {
     "name": "stdout",
     "output_type": "stream",
     "text": [
      "width, height:  640 480\n"
     ]
    }
   ],
   "source": [
    "if capture.isOpened():\n",
    "    width = int(capture.get(cv2.CAP_PROP_FRAME_WIDTH))\n",
    "    height = int(capture.get(cv2.CAP_PROP_FRAME_HEIGHT))\n",
    "    \n",
    "    print('width, height: ', width, height)"
   ]
  },
  {
   "cell_type": "code",
   "execution_count": 4,
   "metadata": {},
   "outputs": [],
   "source": [
    "#set ground truth for the video brightness - good video brightness \n",
    "#define threshold for good video brightness - need to tweak the value \n",
    "pixel_low_thresh = 98\n",
    "pixel_high_thresh = 158"
   ]
  },
  {
   "cell_type": "code",
   "execution_count": 5,
   "metadata": {},
   "outputs": [],
   "source": [
    "while(True): \n",
    "    #capture frame by frame \n",
    "    ret, frame = capture.read()\n",
    "    \n",
    "    #operations on the frame \n",
    "    grayFrame = cv2.cvtColor(frame, cv2.COLOR_BGR2GRAY)\n",
    "        \n",
    "    #count average pixel intensity from the image \n",
    "    total_pixel = 0\n",
    "    for i in range(0, int(height)): \n",
    "        for j in range(0, int(width)): \n",
    "            #total up all pixel inside the image\n",
    "            total_pixel += grayFrame[i,j]\n",
    "            \n",
    "    #average all the total pixel image          \n",
    "    average_pixel = total_pixel / (width * height)\n",
    "       \n",
    "    #describe the type of font to be used \n",
    "    font = cv2.FONT_HERSHEY_SIMPLEX\n",
    "    \n",
    "    #compare pixel intensity with the threshold value\n",
    "    if average_pixel > pixel_low_thresh and average_pixel < pixel_high_thresh: \n",
    "        cv2.putText(frame, 'Video Quality: OK', (50,50), font, 1, (0,255,255), 2, cv2.LINE_4)\n",
    "    elif average_pixel > pixel_high_thresh: \n",
    "        cv2.putText(frame, 'Video Quality: Bright', (50,50), font, 1, (0,255,255),2, cv2.LINE_4)\n",
    "    elif average_pixel < pixel_low_thresh: \n",
    "        cv2.putText(frame, 'Video Quality: Dark', (50,50), font, 1, (0,255,255),2, cv2.LINE_4)\n",
    "        \n",
    "    #display color channel video\n",
    "    cv2.imshow('video gray', grayFrame)\n",
    "    \n",
    "    #display grayscale channel video\n",
    "    cv2.imshow('video original', frame)\n",
    "    \n",
    "    #press escape key to release the video capture \n",
    "    if cv2.waitKey(1) == 27:\n",
    "        break\n",
    "\n",
    "capture.release()\n",
    "cv2.destroyAllWindows()"
   ]
  }
 ],
 "metadata": {
  "kernelspec": {
   "display_name": "Python 3",
   "language": "python",
   "name": "python3"
  },
  "language_info": {
   "codemirror_mode": {
    "name": "ipython",
    "version": 3
   },
   "file_extension": ".py",
   "mimetype": "text/x-python",
   "name": "python",
   "nbconvert_exporter": "python",
   "pygments_lexer": "ipython3",
   "version": "3.7.7"
  }
 },
 "nbformat": 4,
 "nbformat_minor": 4
}
