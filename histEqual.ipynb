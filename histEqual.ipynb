{
 "cells": [
  {
   "cell_type": "markdown",
   "metadata": {},
   "source": [
    "## Histogram Equalizer - Contrast Adjustment"
   ]
  },
  {
   "cell_type": "markdown",
   "metadata": {},
   "source": [
    "### Import Libraries "
   ]
  },
  {
   "cell_type": "code",
   "execution_count": 3,
   "metadata": {},
   "outputs": [],
   "source": [
    "import numpy as np\n",
    "import cv2\n",
    "\n",
    "from matplotlib import pyplot as plt \n",
    "\n",
    "%matplotlib inline"
   ]
  },
  {
   "cell_type": "markdown",
   "metadata": {},
   "source": [
    "### Load the Image "
   ]
  },
  {
   "cell_type": "code",
   "execution_count": 4,
   "metadata": {},
   "outputs": [],
   "source": [
    "image = cv2.imread('Image/normal/person5_normal.jpg')"
   ]
  },
  {
   "cell_type": "markdown",
   "metadata": {},
   "source": [
    "### Plot Pixel Intensity Distribution"
   ]
  },
  {
   "cell_type": "code",
   "execution_count": 5,
   "metadata": {},
   "outputs": [
    {
     "data": {
      "image/png": "[encoded data removed]",
      "text/plain": [
       "<Figure size 432x288 with 1 Axes>"
      ]
     },
     "metadata": {
      "needs_background": "light"
     },
     "output_type": "display_data"
    }
   ],
   "source": [
    "#change the original image to grayscale \n",
    "image_gray = cv2.imread('Image/normal/person5_normal.jpg',0)\n",
    "\n",
    "plt.hist(image_gray.ravel(), 256, [0, 256])\n",
    "plt.title('Pixel Intensity Distribution')\n",
    "plt.xlabel('Pixel Values')\n",
    "plt.ylabel('No of Pixels')\n",
    "plt.show()"
   ]
  },
  {
   "cell_type": "markdown",
   "metadata": {},
   "source": [
    "### Count Average Pixel Intensity"
   ]
  },
  {
   "cell_type": "code",
   "execution_count": 6,
   "metadata": {},
   "outputs": [
    {
     "name": "stdout",
     "output_type": "stream",
     "text": [
      "width, height:  225 225\n"
     ]
    }
   ],
   "source": [
    "width, height = image_gray.shape\n",
    "print('width, height: ', width, height)"
   ]
  },
  {
   "cell_type": "code",
   "execution_count": 7,
   "metadata": {},
   "outputs": [
    {
     "name": "stdout",
     "output_type": "stream",
     "text": [
      "Average pixel:  146\n"
     ]
    }
   ],
   "source": [
    "total = 0 \n",
    "\n",
    "for i in range(0, width): \n",
    "    for j in range(0, height): \n",
    "        total +=image_gray[i,j]\n",
    "        \n",
    "average_pixel = int(total / (width * height))\n",
    "\n",
    "print('Average pixel: ', average_pixel)"
   ]
  },
  {
   "cell_type": "markdown",
   "metadata": {},
   "source": [
    "### Applying Histogram Equalizer - Contrast Adjustment"
   ]
  },
  {
   "cell_type": "code",
   "execution_count": null,
   "metadata": {},
   "outputs": [],
   "source": [
    "#applying adaptive histogram equalizer \n",
    "clahe = cv2.createCLAHE(clipLimit=2, tileGridSize=(8,8))\n",
    "clh = clahe.apply(image_gray)\n",
    "cv2.imshow('With Histogram Equalizer', clh)\n",
    "cv2.imshow('Without Histogram Equalizer', image_gray)\n",
    "cv2.waitKey(0)\n",
    "cv2.destroyAllWindows()"
   ]
  },
  {
   "cell_type": "markdown",
   "metadata": {},
   "source": [
    "### Plot New Pixel Intensity Distribution"
   ]
  },
  {
   "cell_type": "code",
   "execution_count": null,
   "metadata": {},
   "outputs": [],
   "source": [
    "#plot new pixel intensity distributions \n",
    "plt.hist(clh.ravel(), 256, [0, 256])\n",
    "plt.title('Pixel Intensity Distribution')\n",
    "plt.xlabel('Pixel Values')\n",
    "plt.ylabel('No of Pixels')\n",
    "plt.show()"
   ]
  },
  {
   "cell_type": "markdown",
   "metadata": {},
   "source": [
    "### Count New Average Pixel Intensity"
   ]
  },
  {
   "cell_type": "code",
   "execution_count": null,
   "metadata": {},
   "outputs": [],
   "source": [
    "new_width, new_height = clh.shape\n",
    "print('New width, New height: ', new_width, new_height)"
   ]
  },
  {
   "cell_type": "code",
   "execution_count": null,
   "metadata": {},
   "outputs": [],
   "source": [
    "total_new = 0 \n",
    "\n",
    "for i in range(0, new_width): \n",
    "    for j in range(0, new_height): \n",
    "        total_new += clh[i,j]\n",
    "        \n",
    "new_average_pixel = int(total_new / (new_width * new_height))\n",
    "\n",
    "print('New Average Pixel: ', new_average_pixel)"
   ]
  },
  {
   "cell_type": "markdown",
   "metadata": {},
   "source": [
    "### Plot Pixel Intensity Distribution - Comparison\n",
    "Comparison between with Histogram Equalization and without Histogram Equalization"
   ]
  },
  {
   "cell_type": "code",
   "execution_count": null,
   "metadata": {},
   "outputs": [],
   "source": [
    "plt.hist(image_gray.ravel(), 256, [0, 256], label='without Histogram Equalizer')\n",
    "plt.hist(clh.ravel(), 256, [0, 256], label='with Histogram Equalizer')\n",
    "plt.legend(loc='upper right')\n",
    "plt.title('Pixel Intensity Distribution')\n",
    "plt.xlabel('Pixel Values')\n",
    "plt.ylabel('No of Pixels')\n",
    "plt.show()"
   ]
  },
  {
   "cell_type": "code",
   "execution_count": null,
   "metadata": {},
   "outputs": [],
   "source": [
    "#check video quality based on threshold\n",
    "def threshold(new_average_pixel): \n",
    "    #adjust threshold value for brightness quality\n",
    "    low_thresh = 100\n",
    "    high_thresh = 200\n",
    "    \n",
    "    if new_average_pixel > low_thresh and new_average_pixel < high_thresh:\n",
    "        print('Video Brightness: OK')\n",
    "    elif new_average_pixel > high_thresh: \n",
    "        print('Video Brightness: Bright')    \n",
    "    elif new_average_pixel < low_thresh: \n",
    "        print('Video Brightness: Dark')"
   ]
  },
  {
   "cell_type": "code",
   "execution_count": null,
   "metadata": {},
   "outputs": [],
   "source": [
    "#compare pixel intensity with the threshold value\n",
    "threshold(new_average_pixel)"
   ]
  },
  {
   "cell_type": "code",
   "execution_count": null,
   "metadata": {},
   "outputs": [],
   "source": []
  }
 ],
 "metadata": {
  "kernelspec": {
   "display_name": "Python 3",
   "language": "python",
   "name": "python3"
  },
  "language_info": {
   "codemirror_mode": {
    "name": "ipython",
    "version": 3
   },
   "file_extension": ".py",
   "mimetype": "text/x-python",
   "name": "python",
   "nbconvert_exporter": "python",
   "pygments_lexer": "ipython3",
   "version": "3.7.7"
  }
 },
 "nbformat": 4,
 "nbformat_minor": 4
}
