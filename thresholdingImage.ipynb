{
 "cells": [
  {
   "cell_type": "markdown",
   "metadata": {},
   "source": [
    "## Visual Inspection on the Image"
   ]
  },
  {
   "cell_type": "code",
   "execution_count": 1,
   "metadata": {},
   "outputs": [],
   "source": [
    "import numpy as np \n",
    "import cv2\n",
    "\n",
    "from matplotlib import pyplot as plt\n",
    "\n",
    "%matplotlib inline"
   ]
  },
  {
   "cell_type": "code",
   "execution_count": 2,
   "metadata": {},
   "outputs": [],
   "source": [
    "#load the original image \n",
    "image = cv2.imread('C:/Users/Nurulaqilla/Desktop/DigitalImage/Image/dark/person3_dark.jpg')"
   ]
  },
  {
   "cell_type": "code",
   "execution_count": 3,
   "metadata": {},
   "outputs": [
    {
     "data": {
      "image/png": "[encoded data removed]",
      "text/plain": [
       "<Figure size 432x288 with 1 Axes>"
      ]
     },
     "metadata": {
      "needs_background": "light"
     },
     "output_type": "display_data"
    }
   ],
   "source": [
    "#plot pixel intensity distribution \n",
    "plt.hist(image.ravel(), 256, [0, 256])\n",
    "plt.title('Pixel Intensity Distribution')\n",
    "plt.xlabel('Pixel Values')\n",
    "plt.ylabel('No of Pixels')\n",
    "plt.show()"
   ]
  },
  {
   "cell_type": "code",
   "execution_count": 4,
   "metadata": {},
   "outputs": [],
   "source": [
    "#count average pixel intensity from the grayscale image \n",
    "#change image to grayscale \n",
    "image_gray = cv2.imread('C:/Users/Nurulaqilla/Desktop/DigitalImage/Image/dark/person3_dark.jpg',0)\n",
    "width, height = image_gray.shape"
   ]
  },
  {
   "cell_type": "code",
   "execution_count": 5,
   "metadata": {},
   "outputs": [
    {
     "name": "stdout",
     "output_type": "stream",
     "text": [
      "Average Pixel:  89\n"
     ]
    }
   ],
   "source": [
    "total = 0\n",
    "\n",
    "for i in range(0, width): \n",
    "    for j in range(0, height): \n",
    "        total += image_gray[i,j]\n",
    "        \n",
    "average_pixel = int(total / (width * height))\n",
    "\n",
    "print(\"Average Pixel: \", average_pixel)"
   ]
  },
  {
   "cell_type": "code",
   "execution_count": 6,
   "metadata": {},
   "outputs": [],
   "source": [
    "#applying threshold to the image \n",
    "#simple thresholding \n",
    "\n",
    "retval, threshold = cv2.threshold(image_gray, 100, 255, cv2.THRESH_BINARY)\n",
    "cv2.imshow('original', image_gray)\n",
    "cv2.imshow('simple threshold', threshold)\n",
    "cv2.waitKey(0)\n",
    "cv2.destroyAllWindows()"
   ]
  },
  {
   "cell_type": "code",
   "execution_count": 7,
   "metadata": {},
   "outputs": [],
   "source": [
    "#adaptive thresholding \n",
    "#adaptive = cv2.adaptiveThreshold(image_gray, 125, cv2.ADAPTIVE_THRESH_GAUSSIAN_C, cv2.THRESH_BINARY, 115, 1)\n",
    "#cv2.imshow('original', image_gray)\n",
    "#cv2.imshow('adaptive threshold', adaptive)\n",
    "#cv2.waitKey(0)\n",
    "#cv2.destroyAllWindows()"
   ]
  },
  {
   "cell_type": "code",
   "execution_count": 8,
   "metadata": {},
   "outputs": [],
   "source": []
  },
  {
   "cell_type": "code",
   "execution_count": null,
   "metadata": {},
   "outputs": [],
   "source": []
  }
 ],
 "metadata": {
  "kernelspec": {
   "display_name": "Python 3",
   "language": "python",
   "name": "python3"
  },
  "language_info": {
   "codemirror_mode": {
    "name": "ipython",
    "version": 3
   },
   "file_extension": ".py",
   "mimetype": "text/x-python",
   "name": "python",
   "nbconvert_exporter": "python",
   "pygments_lexer": "ipython3",
   "version": "3.7.7"
  }
 },
 "nbformat": 4,
 "nbformat_minor": 4
}
